{
 "cells": [
  {
   "cell_type": "code",
   "execution_count": 1,
   "id": "aabf6d7d-22a4-41f6-a89b-c852bf530275",
   "metadata": {},
   "outputs": [],
   "source": [
    "import pickle"
   ]
  },
  {
   "cell_type": "code",
   "execution_count": 2,
   "id": "f4260e14-189d-4ea4-99f8-b512f9190841",
   "metadata": {},
   "outputs": [
    {
     "data": {
      "text/plain": [
       "array([6666.243])"
      ]
     },
     "execution_count": 2,
     "metadata": {},
     "output_type": "execute_result"
    }
   ],
   "source": [
    "load_model=pickle.load(open(\"Gridsearch_DTR.sav\",\"rb\"))\n",
    "result=load_model.predict([[45,55.264,3,0,0]])\n",
    "result                       "
   ]
  },
  {
   "cell_type": "code",
   "execution_count": null,
   "id": "15470258-5ab7-4526-bf92-9a55ca30ff89",
   "metadata": {},
   "outputs": [],
   "source": []
  }
 ],
 "metadata": {
  "kernelspec": {
   "display_name": "Python 3 (ipykernel)",
   "language": "python",
   "name": "python3"
  },
  "language_info": {
   "codemirror_mode": {
    "name": "ipython",
    "version": 3
   },
   "file_extension": ".py",
   "mimetype": "text/x-python",
   "name": "python",
   "nbconvert_exporter": "python",
   "pygments_lexer": "ipython3",
   "version": "3.11.7"
  }
 },
 "nbformat": 4,
 "nbformat_minor": 5
}
